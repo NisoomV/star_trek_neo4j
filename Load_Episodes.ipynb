{
 "cells": [
  {
   "cell_type": "code",
   "execution_count": 1,
   "metadata": {
    "colab": {
     "base_uri": "https://localhost:8080/"
    },
    "id": "dWOf4XgGRUXd",
    "outputId": "ae3ad902-4be0-43da-97ec-58d9910f9c30"
   },
   "outputs": [
    {
     "name": "stdout",
     "output_type": "stream",
     "text": [
      "Defaulting to user installation because normal site-packages is not writeable\n",
      "Requirement already satisfied: neo4j in /home/vashinav/.local/lib/python3.12/site-packages (5.25.0)\n",
      "Requirement already satisfied: pytz in /home/vashinav/anaconda3/lib/python3.12/site-packages (from neo4j) (2024.1)\n",
      "Defaulting to user installation because normal site-packages is not writeable\n",
      "Requirement already satisfied: pandas in /home/vashinav/anaconda3/lib/python3.12/site-packages (2.2.2)\n",
      "Requirement already satisfied: numpy>=1.26.0 in /home/vashinav/anaconda3/lib/python3.12/site-packages (from pandas) (1.26.4)\n",
      "Requirement already satisfied: python-dateutil>=2.8.2 in /home/vashinav/anaconda3/lib/python3.12/site-packages (from pandas) (2.9.0.post0)\n",
      "Requirement already satisfied: pytz>=2020.1 in /home/vashinav/anaconda3/lib/python3.12/site-packages (from pandas) (2024.1)\n",
      "Requirement already satisfied: tzdata>=2022.7 in /home/vashinav/anaconda3/lib/python3.12/site-packages (from pandas) (2023.3)\n",
      "Requirement already satisfied: six>=1.5 in /home/vashinav/anaconda3/lib/python3.12/site-packages (from python-dateutil>=2.8.2->pandas) (1.16.0)\n"
     ]
    }
   ],
   "source": [
    "!pip install neo4j\n",
    "!pip install pandas"
   ]
  },
  {
   "cell_type": "code",
   "execution_count": 16,
   "metadata": {
    "id": "RpREkY3yRb0J"
   },
   "outputs": [],
   "source": [
    "import pandas as pd\n",
    "import json\n",
    "import requests\n",
    "from neo4j import GraphDatabase"
   ]
  },
  {
   "cell_type": "code",
   "execution_count": 17,
   "metadata": {
    "id": "OoRfGkfURm5A"
   },
   "outputs": [],
   "source": [
    "url = 'https://stapi.co/api/v1/rest/episode/search'\n",
    "\n",
    "params = {\n",
    "    'pageSize': 50 ,\n",
    "    'pageNumber': 1\n",
    "}\n",
    "\n",
    "episodes = pd.DataFrame()\n",
    "response = requests.get(url, params=params)\n",
    "totalPages = int(response.json()['page']['totalPages'])\n",
    "\n",
    "for i in range(1, int(totalPages)):\n",
    "    params['pageNumber'] = i\n",
    "    response = requests.get(url, params=params)\n",
    "    epis = pd.json_normalize(response.json(), 'episodes')\n",
    "    epis = epis[epis['series.uid'] == 'SEMA0000073238']\n",
    "    epis = epis [['uid', 'title', 'yearFrom', 'yearTo', 'usAirDate']]\n",
    "    # print(epis)\n",
    "    episodes = pd.concat([episodes, epis])"
   ]
  },
  {
   "cell_type": "code",
   "execution_count": 1,
   "metadata": {
    "colab": {
     "base_uri": "https://localhost:8080/",
     "height": 424
    },
    "id": "uU7Rg00CR4Oz",
    "outputId": "250476ee-ff07-468c-b5f2-b50614d0992d"
   },
   "outputs": [
    {
     "ename": "NameError",
     "evalue": "name 'episodes' is not defined",
     "output_type": "error",
     "traceback": [
      "\u001b[0;31m---------------------------------------------------------------------------\u001b[0m",
      "\u001b[0;31mNameError\u001b[0m                                 Traceback (most recent call last)",
      "Cell \u001b[0;32mIn[1], line 1\u001b[0m\n\u001b[0;32m----> 1\u001b[0m episodes\n",
      "\u001b[0;31mNameError\u001b[0m: name 'episodes' is not defined"
     ]
    }
   ],
   "source": [
    "episodes    "
   ]
  },
  {
   "cell_type": "code",
   "execution_count": 3,
   "metadata": {
    "colab": {
     "base_uri": "https://localhost:8080/",
     "height": 582
    },
    "id": "hMDnt-6TSqPd",
    "outputId": "8d3f9c3d-4d46-4955-b7c7-810d32376ce3"
   },
   "outputs": [
    {
     "name": "stdout",
     "output_type": "stream",
     "text": [
      "Connection established.\n"
     ]
    }
   ],
   "source": [
    "URI = \"neo4j://localhost:7687\"\n",
    "AUTH = (\"neo4j\", \"password\")"
   ]
  },
  {
   "cell_type": "code",
   "execution_count": 31,
   "metadata": {
    "id": "I48ogedL97n7"
   },
   "outputs": [
    {
     "name": "stdout",
     "output_type": "stream",
     "text": [
      "established connection\n",
      "Created 1 nodes in 2 ms.\n",
      "Created 1 nodes in 28 ms.\n",
      "Created 1 nodes in 2 ms.\n",
      "Created 1 nodes in 1 ms.\n",
      "Created 1 nodes in 2 ms.\n",
      "Created 1 nodes in 2 ms.\n",
      "Created 1 nodes in 2 ms.\n",
      "Created 1 nodes in 2 ms.\n",
      "Created 1 nodes in 2 ms.\n",
      "Created 1 nodes in 2 ms.\n",
      "Created 1 nodes in 1 ms.\n",
      "Created 1 nodes in 2 ms.\n",
      "Created 1 nodes in 2 ms.\n",
      "Created 1 nodes in 4 ms.\n",
      "Created 1 nodes in 1 ms.\n",
      "Created 1 nodes in 1 ms.\n",
      "Created 1 nodes in 2 ms.\n",
      "Created 1 nodes in 1 ms.\n",
      "Created 1 nodes in 1 ms.\n",
      "Created 1 nodes in 2 ms.\n",
      "Created 1 nodes in 2 ms.\n",
      "Created 1 nodes in 3 ms.\n",
      "Created 1 nodes in 1 ms.\n",
      "Created 1 nodes in 1 ms.\n",
      "Created 1 nodes in 1 ms.\n",
      "Created 1 nodes in 1 ms.\n",
      "Created 1 nodes in 2 ms.\n",
      "Created 1 nodes in 1 ms.\n",
      "Created 1 nodes in 2 ms.\n",
      "Created 1 nodes in 1 ms.\n",
      "Created 1 nodes in 1 ms.\n",
      "Created 1 nodes in 1 ms.\n",
      "Created 1 nodes in 3 ms.\n",
      "Created 1 nodes in 2 ms.\n",
      "Created 1 nodes in 2 ms.\n",
      "Created 1 nodes in 1 ms.\n",
      "Created 1 nodes in 2 ms.\n",
      "Created 1 nodes in 1 ms.\n",
      "Created 1 nodes in 1 ms.\n",
      "Created 1 nodes in 1 ms.\n",
      "Created 1 nodes in 1 ms.\n",
      "Created 1 nodes in 1 ms.\n",
      "Created 1 nodes in 1 ms.\n",
      "Created 1 nodes in 2 ms.\n",
      "Created 1 nodes in 1 ms.\n",
      "Created 1 nodes in 1 ms.\n",
      "Created 1 nodes in 1 ms.\n",
      "Created 1 nodes in 2 ms.\n",
      "Created 1 nodes in 1 ms.\n",
      "Created 1 nodes in 1 ms.\n",
      "Created 1 nodes in 1 ms.\n",
      "Created 1 nodes in 2 ms.\n",
      "Created 1 nodes in 1 ms.\n",
      "Created 1 nodes in 1 ms.\n",
      "Created 1 nodes in 1 ms.\n",
      "Created 1 nodes in 1 ms.\n",
      "Created 1 nodes in 2 ms.\n",
      "Created 1 nodes in 1 ms.\n",
      "Created 1 nodes in 1 ms.\n",
      "Created 1 nodes in 1 ms.\n",
      "Created 1 nodes in 1 ms.\n",
      "Created 1 nodes in 1 ms.\n",
      "Created 1 nodes in 1 ms.\n",
      "Created 1 nodes in 2 ms.\n",
      "Created 1 nodes in 1 ms.\n",
      "Created 1 nodes in 1 ms.\n",
      "Created 1 nodes in 2 ms.\n",
      "Created 1 nodes in 1 ms.\n",
      "Created 1 nodes in 2 ms.\n",
      "Created 1 nodes in 2 ms.\n",
      "Created 1 nodes in 2 ms.\n",
      "Created 1 nodes in 1 ms.\n",
      "Created 1 nodes in 1 ms.\n",
      "Created 1 nodes in 1 ms.\n",
      "Created 1 nodes in 2 ms.\n",
      "Created 1 nodes in 1 ms.\n",
      "Created 1 nodes in 1 ms.\n",
      "Created 1 nodes in 1 ms.\n",
      "Created 1 nodes in 1 ms.\n",
      "Created 1 nodes in 1 ms.\n",
      "Created 1 nodes in 1 ms.\n",
      "Created 1 nodes in 1 ms.\n",
      "Created 1 nodes in 1 ms.\n",
      "Created 1 nodes in 1 ms.\n",
      "Created 1 nodes in 1 ms.\n",
      "Created 1 nodes in 1 ms.\n",
      "Created 1 nodes in 1 ms.\n",
      "Created 1 nodes in 1 ms.\n",
      "Created 1 nodes in 1 ms.\n",
      "Created 1 nodes in 1 ms.\n",
      "Created 1 nodes in 1 ms.\n",
      "Created 1 nodes in 1 ms.\n",
      "Created 1 nodes in 1 ms.\n",
      "Created 1 nodes in 1 ms.\n",
      "Created 1 nodes in 1 ms.\n",
      "Created 1 nodes in 1 ms.\n",
      "Created 1 nodes in 1 ms.\n",
      "Created 1 nodes in 1 ms.\n",
      "Created 1 nodes in 1 ms.\n",
      "Created 1 nodes in 1 ms.\n",
      "Created 1 nodes in 1 ms.\n",
      "Created 1 nodes in 1 ms.\n",
      "Created 1 nodes in 1 ms.\n",
      "Created 1 nodes in 1 ms.\n",
      "Created 1 nodes in 1 ms.\n",
      "Created 1 nodes in 2 ms.\n",
      "Created 1 nodes in 1 ms.\n",
      "Created 1 nodes in 2 ms.\n",
      "Created 1 nodes in 1 ms.\n",
      "Created 1 nodes in 1 ms.\n",
      "Created 1 nodes in 1 ms.\n",
      "Created 1 nodes in 1 ms.\n",
      "Created 1 nodes in 1 ms.\n",
      "Created 1 nodes in 1 ms.\n",
      "Created 1 nodes in 1 ms.\n",
      "Created 1 nodes in 1 ms.\n",
      "Created 1 nodes in 1 ms.\n",
      "Created 1 nodes in 2 ms.\n",
      "Created 1 nodes in 2 ms.\n",
      "Created 1 nodes in 1 ms.\n",
      "Created 1 nodes in 1 ms.\n",
      "Created 1 nodes in 1 ms.\n",
      "Created 1 nodes in 1 ms.\n",
      "Created 1 nodes in 2 ms.\n",
      "Created 1 nodes in 2 ms.\n",
      "Created 1 nodes in 1 ms.\n",
      "Created 1 nodes in 1 ms.\n",
      "Created 1 nodes in 2 ms.\n",
      "Created 1 nodes in 1 ms.\n",
      "Created 1 nodes in 1 ms.\n",
      "Created 1 nodes in 1 ms.\n",
      "Created 1 nodes in 2 ms.\n",
      "Created 1 nodes in 2 ms.\n",
      "Created 1 nodes in 1 ms.\n",
      "Created 1 nodes in 1 ms.\n",
      "Created 1 nodes in 1 ms.\n",
      "Created 1 nodes in 1 ms.\n",
      "Created 1 nodes in 1 ms.\n",
      "Created 1 nodes in 1 ms.\n",
      "Created 1 nodes in 1 ms.\n",
      "Created 1 nodes in 1 ms.\n",
      "Created 1 nodes in 1 ms.\n",
      "Created 1 nodes in 1 ms.\n",
      "Created 1 nodes in 1 ms.\n",
      "Created 1 nodes in 2 ms.\n",
      "Created 1 nodes in 2 ms.\n",
      "Created 1 nodes in 1 ms.\n",
      "Created 1 nodes in 1 ms.\n",
      "Created 1 nodes in 1 ms.\n",
      "Created 1 nodes in 1 ms.\n",
      "Created 1 nodes in 2 ms.\n",
      "Created 1 nodes in 1 ms.\n",
      "Created 1 nodes in 1 ms.\n",
      "Created 1 nodes in 1 ms.\n",
      "Created 1 nodes in 1 ms.\n",
      "Created 1 nodes in 1 ms.\n",
      "Created 1 nodes in 1 ms.\n",
      "Created 1 nodes in 1 ms.\n",
      "Created 1 nodes in 1 ms.\n",
      "Created 1 nodes in 0 ms.\n",
      "Created 1 nodes in 0 ms.\n",
      "Created 1 nodes in 1 ms.\n",
      "Created 1 nodes in 1 ms.\n",
      "Created 1 nodes in 0 ms.\n",
      "Created 1 nodes in 1 ms.\n"
     ]
    }
   ],
   "source": [
    "with GraphDatabase.driver(URI, auth=AUTH) as driver:\n",
    "    driver.verify_connectivity()\n",
    "    print(\"established connection\")\n",
    "    with driver.session(database='neo4j') as session:\n",
    "        for index, row in episodes.iterrows():\n",
    "            result = session.run(\n",
    "                \"CREATE (:Episode {uid: $uid, title: $title, yearFrom: $yearFrom, yearTo: $yearTo, usAirDate: $usAirDate})\",\n",
    "                uid = row['uid'],\n",
    "                title = row['title'],\n",
    "                yearFrom = row['yearFrom'],\n",
    "                yearTo = row['yearTo'],\n",
    "                usAirDate = row['usAirDate'],\n",
    "                database_ = \"neo4j\",\n",
    "            )\n",
    "            summary = result.consume()\n",
    "            print(\"Created {nodes_created} nodes in {time} ms.\".format(\n",
    "                nodes_created=summary.counters.nodes_created,\n",
    "                time=summary.result_available_after\n",
    "            ))"
   ]
  },
  {
   "cell_type": "code",
   "execution_count": 18,
   "metadata": {},
   "outputs": [
    {
     "name": "stdout",
     "output_type": "stream",
     "text": [
      "Created 1 nodes in 67 ms.\n"
     ]
    },
    {
     "name": "stderr",
     "output_type": "stream",
     "text": [
      "/tmp/ipykernel_249851/2429642574.py:1: DeprecationWarning: Using a driver after it has been closed is deprecated. Future versions of the driver will raise an error.\n",
      "  summary = driver.execute_query(\n"
     ]
    }
   ],
   "source": []
  }
 ],
 "metadata": {
  "colab": {
   "provenance": []
  },
  "kernelspec": {
   "display_name": "Python 3 (ipykernel)",
   "language": "python",
   "name": "python3"
  },
  "language_info": {
   "codemirror_mode": {
    "name": "ipython",
    "version": 3
   },
   "file_extension": ".py",
   "mimetype": "text/x-python",
   "name": "python",
   "nbconvert_exporter": "python",
   "pygments_lexer": "ipython3",
   "version": "3.12.4"
  }
 },
 "nbformat": 4,
 "nbformat_minor": 4
}
